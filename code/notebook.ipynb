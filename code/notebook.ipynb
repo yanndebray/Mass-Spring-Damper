{
 "cells": [
  {
   "cell_type": "code",
   "execution_count": 1,
   "metadata": {},
   "outputs": [
    {
     "name": "stdout",
     "output_type": "stream",
     "text": [
      "-----------------------------------------------------------------------------------------------------\n",
      "MATLAB Version: 24.1.0.2578822 (R2024a) Update 2\n",
      "MATLAB License Number: 40447121\n",
      "Operating System: Linux 6.5.0-1018-azure #19~22.04.2-Ubuntu SMP Thu Mar 21 16:45:46 UTC 2024 x86_64\n",
      "Java Version: Java 1.8.0_202-b08 with Oracle Corporation Java HotSpot(TM) 64-Bit Server VM mixed mode\n",
      "-----------------------------------------------------------------------------------------------------\n",
      "MATLAB                                                Version 24.1        (R2024a)\n",
      "Simulink                                              Version 24.1        (R2024a)\n",
      "MATLAB Compiler                                       Version 24.1        (R2024a)\n",
      "MATLAB Compiler SDK                                   Version 24.1        (R2024a)\n",
      "Simulink Compiler                                     Version 24.1        (R2024a)\n"
     ]
    }
   ],
   "source": [
    "ver"
   ]
  },
  {
   "cell_type": "code",
   "execution_count": 8,
   "metadata": {},
   "outputs": [
    {
     "name": "stdout",
     "output_type": "stream",
     "text": [
      "BuildPlanDetails.mlx\n",
      "\n"
     ]
    }
   ],
   "source": [
    "ls code/examples"
   ]
  },
  {
   "cell_type": "code",
   "execution_count": 9,
   "metadata": {},
   "outputs": [
    {
     "data": {
      "text/html": [
       "<html><body><pre>ans = '/workspaces/Mass-Spring-Damper/BuildPlanDetails.ipynb'</pre></body></html>"
      ],
      "text/plain": [
       "ans = '/workspaces/Mass-Spring-Damper/BuildPlanDetails.ipynb'"
      ]
     },
     "execution_count": 9,
     "metadata": {},
     "output_type": "execute_result"
    }
   ],
   "source": [
    "export code/examples/BuildPlanDetails.mlx BuildPlanDetails.ipynb "
   ]
  },
  {
   "cell_type": "code",
   "execution_count": 5,
   "metadata": {},
   "outputs": [],
   "source": [
    "addpath code"
   ]
  },
  {
   "cell_type": "code",
   "execution_count": 11,
   "metadata": {},
   "outputs": [
    {
     "data": {
      "text/html": [
       "<html><body><pre>ans = \n",
       "  Project with properties:\n",
       "\n",
       "                        Name: \"MassSpringDamper\"\n",
       "                 Description: \"\"\n",
       "                  RootFolder: \"/workspaces/Mass-Spring-Damper\"\n",
       "                    TopLevel: 1\n",
       "                    ReadOnly: 0\n",
       "         DefinitionFilesType: FixedPathMultiFile\n",
       "    SourceControlIntegration: \"Git\"\n",
       "          RepositoryLocation: \"https://github.com/yanndebray/Mass-Spring-Damper\"\n",
       "                       Files: [1x45 matlab.project.ProjectFile]\n",
       "                   Shortcuts: [1x0 matlab.project.Shortcut]\n",
       "                  Categories: [1x1 matlab.project.Category]\n",
       "                Dependencies: [1x1 digraph]\n",
       "                StartupFiles: [1x0 string]\n",
       "               ShutdownFiles: [1x0 string]\n",
       "                 ProjectPath: [1x7 matlab.project.PathFolder]\n",
       "           ProjectReferences: [1x0 matlab.project.ProjectReference]\n",
       "        ProjectStartupFolder: \"/workspaces/Mass-Spring-Damper\"\n",
       "         SimulinkCacheFolder: \"\"\n",
       "       SimulinkCodeGenFolder: \"\"\n",
       "         DependencyCacheFile: \"\"\n",
       "</pre></body></html>"
      ],
      "text/plain": [
       "ans = \n",
       "  Project with properties:\n",
       "\n",
       "                        Name: \"MassSpringDamper\"\n",
       "                 Description: \"\"\n",
       "                  RootFolder: \"/workspaces/Mass-Spring-Damper\"\n",
       "                    TopLevel: 1\n",
       "                    ReadOnly: 0\n",
       "         DefinitionFilesType: FixedPathMultiFile\n",
       "    SourceControlIntegration: \"Git\"\n",
       "          RepositoryLocation: \"https://github.com/yanndebray/Mass-Spring-Damper\"\n",
       "                       Files: [1x45 matlab.project.ProjectFile]\n",
       "                   Shortcuts: [1x0 matlab.project.Shortcut]\n",
       "                  Categories: [1x1 matlab.project.Category]\n",
       "                Dependencies: [1x1 digraph]\n",
       "                StartupFiles: [1x0 string]\n",
       "               ShutdownFiles: [1x0 string]\n",
       "                 ProjectPath: [1x7 matlab.project.PathFolder]\n",
       "           ProjectReferences: [1x0 matlab.project.ProjectReference]\n",
       "        ProjectStartupFolder: \"/workspaces/Mass-Spring-Damper\"\n",
       "         SimulinkCacheFolder: \"\"\n",
       "       SimulinkCodeGenFolder: \"\"\n",
       "         DependencyCacheFile: \"\"\n"
      ]
     },
     "execution_count": 11,
     "metadata": {},
     "output_type": "execute_result"
    }
   ],
   "source": [
    "openProject ."
   ]
  },
  {
   "cell_type": "code",
   "execution_count": 10,
   "metadata": {},
   "outputs": [
    {
     "data": {
      "image/png": "[encoded data removed]"
     },
     "execution_count": 10,
     "metadata": {},
     "output_type": "execute_result"
    }
   ],
   "source": [
    "[result, time] = simulateSystem(springMassDamperDesign);\n",
    "plot(time, result);\n",
    "title(\"Step Response of the System\")"
   ]
  },
  {
   "cell_type": "markdown",
   "metadata": {},
   "source": [
    "Add simulink version: https://www.mathworks.com/help/simscape/ug/mass-spring-damper-in-simulink-and-simscape.html"
   ]
  },
  {
   "cell_type": "code",
   "execution_count": 3,
   "metadata": {},
   "outputs": [],
   "source": [
    "load_system MassSpringDamperInSimulink.slx"
   ]
  },
  {
   "cell_type": "code",
   "execution_count": 4,
   "metadata": {},
   "outputs": [
    {
     "name": "stderr",
     "output_type": "stream",
     "text": [
      "Error due to multiple causes.\n",
      "\n",
      "Caused by:\n",
      "    Error using Notebook (line 1)\n",
      "    Invalid setting in '<a href=\"matlab:open_and_hilite_hyperlink ('MassSpringDamperInSimulink/1//Mass ','error')\">MassSpringDamperInSimulink/1//Mass </a>' for parameter 'Gain'.\n",
      "        Error using Notebook (line 1)\n",
      "        Error evaluating parameter <a href=\"matlab:Simulink.internal.OpenBlockParamsDialog(['MassSpringDamperInSimulink/1//Mass '],'Gain');\">'Gain'</a> in '<a href=\"matlab:open_and_hilite_hyperlink ('MassSpringDamperInSimulink/1//Mass ','error')\">MassSpringDamperInSimulink/1//Mass </a>'\n",
      "            Error using Notebook (line 1)\n",
      "            Unrecognized function or variable 'm'.\n",
      "                Error using Notebook (line 1)\n",
      "                Variable 'm' does not exist. \n",
      "    Error using Notebook (line 1)\n",
      "    Invalid setting in '<a href=\"matlab:open_and_hilite_hyperlink ('MassSpringDamperInSimulink/Damping','error')\">MassSpringDamperInSimulink/Damping</a>' for parameter 'Gain'.\n",
      "        Error using Notebook (line 1)\n",
      "        Error evaluating parameter <a href=\"matlab:Simulink.internal.OpenBlockParamsDialog(['MassSpringDamperInSimulink/Damping'],'Gain');\">'Gain'</a> in '<a href=\"matlab:open_and_hilite_hyperlink ('MassSpringDamperInSimulink/Damping','error')\">MassSpringDamperInSimulink/Damping</a>'\n",
      "            Error using Notebook (line 1)\n",
      "            Unrecognized function or variable 'b'.\n",
      "                Error using Notebook (line 1)\n",
      "                Variable 'b' does not exist. \n",
      "    Error using Notebook (line 1)\n",
      "    Invalid setting in '<a href=\"matlab:open_and_hilite_hyperlink ('MassSpringDamperInSimulink/Stiffness','error')\">MassSpringDamperInSimulink/Stiffness</a>' for parameter 'Gain'.\n",
      "        Error using Notebook (line 1)\n",
      "        Error evaluating parameter <a href=\"matlab:Simulink.internal.OpenBlockParamsDialog(['MassSpringDamperInSimulink/Stiffness'],'Gain');\">'Gain'</a> in '<a href=\"matlab:open_and_hilite_hyperlink ('MassSpringDamperInSimulink/Stiffness','error')\">MassSpringDamperInSimulink/Stiffness</a>'\n",
      "            Error using Notebook (line 1)\n",
      "            Unrecognized function or variable 'k'.\n",
      "                Error using Notebook (line 1)\n",
      "                Variable 'k' does not exist. "
     ]
    }
   ],
   "source": [
    "simout = sim(\"MassSpringDamperInSimulink\")"
   ]
  }
 ],
 "metadata": {
  "kernelspec": {
   "display_name": "MATLAB Kernel",
   "language": "matlab",
   "name": "jupyter_matlab_kernel"
  },
  "language_info": {
   "file_extension": ".m",
   "mimetype": "text/x-matlab",
   "name": "matlab"
  }
 },
 "nbformat": 4,
 "nbformat_minor": 2
}
